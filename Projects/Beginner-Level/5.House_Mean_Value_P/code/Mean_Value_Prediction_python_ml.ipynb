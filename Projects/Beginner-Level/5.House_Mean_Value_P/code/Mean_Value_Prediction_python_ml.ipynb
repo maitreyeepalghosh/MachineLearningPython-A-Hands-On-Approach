{
 "cells": [
  {
   "cell_type": "code",
   "execution_count": 1,
   "metadata": {
    "collapsed": true
   },
   "outputs": [],
   "source": [
    "%matplotlib inline\n",
    "import pandas as pd\n",
    "import numpy as np\n",
    "import pylab as plt\n",
    "# Set the global default size of matplotlib figures\n",
    "plt.rc('figure', figsize=(10, 5))\n",
    "\n",
    "# Size of matplotlib figures that contain subplots\n",
    "fizsize_with_subplots = (10, 10)\n",
    "\n",
    "# Size of matplotlib histogram bins\n",
    "bin_size = 10"
   ]
  },
  {
   "cell_type": "code",
   "execution_count": 2,
   "metadata": {
    "collapsed": true
   },
   "outputs": [],
   "source": [
    "df = pd.read_csv('../data/housing.data.txt',delimiter=r\"\\s+\",names =['crime_rate_by_town','residential_land','non-retail_business','river_dummy','nitric_oxides','avg_num_rooms','age','distance','accessibility_highways','tax','PTRATIO','blacks_pro_per_town','low_status','median_value_of_house'])\n"
   ]
  },
  {
   "cell_type": "code",
   "execution_count": 3,
   "metadata": {
    "collapsed": false
   },
   "outputs": [
    {
     "data": {
      "text/plain": [
       "(506, 14)"
      ]
     },
     "execution_count": 3,
     "metadata": {},
     "output_type": "execute_result"
    }
   ],
   "source": [
    "df.shape"
   ]
  },
  {
   "cell_type": "code",
   "execution_count": 5,
   "metadata": {
    "collapsed": false
   },
   "outputs": [
    {
     "data": {
      "text/html": [
       "<div>\n",
       "<table border=\"1\" class=\"dataframe\">\n",
       "  <thead>\n",
       "    <tr style=\"text-align: right;\">\n",
       "      <th></th>\n",
       "      <th>crime_rate_by_town</th>\n",
       "      <th>residential_land</th>\n",
       "      <th>non-retail_business</th>\n",
       "      <th>river_dummy</th>\n",
       "      <th>nitric_oxides</th>\n",
       "      <th>avg_num_rooms</th>\n",
       "      <th>age</th>\n",
       "      <th>distance</th>\n",
       "      <th>accessibility_highways</th>\n",
       "      <th>tax</th>\n",
       "      <th>PTRATIO</th>\n",
       "      <th>blacks_pro_per_town</th>\n",
       "      <th>low_status</th>\n",
       "      <th>median_value_of_house</th>\n",
       "    </tr>\n",
       "  </thead>\n",
       "  <tbody>\n",
       "    <tr>\n",
       "      <th>0</th>\n",
       "      <td>0.00632</td>\n",
       "      <td>18</td>\n",
       "      <td>2.31</td>\n",
       "      <td>0</td>\n",
       "      <td>0.538</td>\n",
       "      <td>6.575</td>\n",
       "      <td>65.2</td>\n",
       "      <td>4.0900</td>\n",
       "      <td>1</td>\n",
       "      <td>296</td>\n",
       "      <td>15.3</td>\n",
       "      <td>396.90</td>\n",
       "      <td>4.98</td>\n",
       "      <td>24.0</td>\n",
       "    </tr>\n",
       "    <tr>\n",
       "      <th>1</th>\n",
       "      <td>0.02731</td>\n",
       "      <td>0</td>\n",
       "      <td>7.07</td>\n",
       "      <td>0</td>\n",
       "      <td>0.469</td>\n",
       "      <td>6.421</td>\n",
       "      <td>78.9</td>\n",
       "      <td>4.9671</td>\n",
       "      <td>2</td>\n",
       "      <td>242</td>\n",
       "      <td>17.8</td>\n",
       "      <td>396.90</td>\n",
       "      <td>9.14</td>\n",
       "      <td>21.6</td>\n",
       "    </tr>\n",
       "    <tr>\n",
       "      <th>2</th>\n",
       "      <td>0.02729</td>\n",
       "      <td>0</td>\n",
       "      <td>7.07</td>\n",
       "      <td>0</td>\n",
       "      <td>0.469</td>\n",
       "      <td>7.185</td>\n",
       "      <td>61.1</td>\n",
       "      <td>4.9671</td>\n",
       "      <td>2</td>\n",
       "      <td>242</td>\n",
       "      <td>17.8</td>\n",
       "      <td>392.83</td>\n",
       "      <td>4.03</td>\n",
       "      <td>34.7</td>\n",
       "    </tr>\n",
       "    <tr>\n",
       "      <th>3</th>\n",
       "      <td>0.03237</td>\n",
       "      <td>0</td>\n",
       "      <td>2.18</td>\n",
       "      <td>0</td>\n",
       "      <td>0.458</td>\n",
       "      <td>6.998</td>\n",
       "      <td>45.8</td>\n",
       "      <td>6.0622</td>\n",
       "      <td>3</td>\n",
       "      <td>222</td>\n",
       "      <td>18.7</td>\n",
       "      <td>394.63</td>\n",
       "      <td>2.94</td>\n",
       "      <td>33.4</td>\n",
       "    </tr>\n",
       "    <tr>\n",
       "      <th>4</th>\n",
       "      <td>0.06905</td>\n",
       "      <td>0</td>\n",
       "      <td>2.18</td>\n",
       "      <td>0</td>\n",
       "      <td>0.458</td>\n",
       "      <td>7.147</td>\n",
       "      <td>54.2</td>\n",
       "      <td>6.0622</td>\n",
       "      <td>3</td>\n",
       "      <td>222</td>\n",
       "      <td>18.7</td>\n",
       "      <td>396.90</td>\n",
       "      <td>5.33</td>\n",
       "      <td>36.2</td>\n",
       "    </tr>\n",
       "  </tbody>\n",
       "</table>\n",
       "</div>"
      ],
      "text/plain": [
       "   crime_rate_by_town  residential_land  non-retail_business  river_dummy  \\\n",
       "0             0.00632                18                 2.31            0   \n",
       "1             0.02731                 0                 7.07            0   \n",
       "2             0.02729                 0                 7.07            0   \n",
       "3             0.03237                 0                 2.18            0   \n",
       "4             0.06905                 0                 2.18            0   \n",
       "\n",
       "   nitric_oxides  avg_num_rooms   age  distance  accessibility_highways  tax  \\\n",
       "0          0.538          6.575  65.2    4.0900                       1  296   \n",
       "1          0.469          6.421  78.9    4.9671                       2  242   \n",
       "2          0.469          7.185  61.1    4.9671                       2  242   \n",
       "3          0.458          6.998  45.8    6.0622                       3  222   \n",
       "4          0.458          7.147  54.2    6.0622                       3  222   \n",
       "\n",
       "   PTRATIO  blacks_pro_per_town  low_status  median_value_of_house  \n",
       "0     15.3               396.90        4.98                   24.0  \n",
       "1     17.8               396.90        9.14                   21.6  \n",
       "2     17.8               392.83        4.03                   34.7  \n",
       "3     18.7               394.63        2.94                   33.4  \n",
       "4     18.7               396.90        5.33                   36.2  "
      ]
     },
     "execution_count": 5,
     "metadata": {},
     "output_type": "execute_result"
    }
   ],
   "source": [
    "df.head()"
   ]
  },
  {
   "cell_type": "code",
   "execution_count": 8,
   "metadata": {
    "collapsed": false
   },
   "outputs": [
    {
     "data": {
      "text/plain": [
       "crime_rate_by_town        float64\n",
       "residential_land          float64\n",
       "non-retail_business       float64\n",
       "river_dummy                 int64\n",
       "nitric_oxides             float64\n",
       "avg_num_rooms             float64\n",
       "age                       float64\n",
       "distance                  float64\n",
       "accessibility_highways      int64\n",
       "tax                       float64\n",
       "PTRATIO                   float64\n",
       "blacks_pro_per_town       float64\n",
       "low_status                float64\n",
       "median_value_of_house     float64\n",
       "dtype: object"
      ]
     },
     "execution_count": 8,
     "metadata": {},
     "output_type": "execute_result"
    }
   ],
   "source": [
    "df.dtypes"
   ]
  },
  {
   "cell_type": "code",
   "execution_count": 10,
   "metadata": {
    "collapsed": false
   },
   "outputs": [
    {
     "name": "stdout",
     "output_type": "stream",
     "text": [
      "<class 'pandas.core.frame.DataFrame'>\n",
      "Int64Index: 506 entries, 0 to 505\n",
      "Data columns (total 14 columns):\n",
      "crime_rate_by_town        506 non-null float64\n",
      "residential_land          506 non-null float64\n",
      "non-retail_business       506 non-null float64\n",
      "river_dummy               506 non-null int64\n",
      "nitric_oxides             506 non-null float64\n",
      "avg_num_rooms             506 non-null float64\n",
      "age                       506 non-null float64\n",
      "distance                  506 non-null float64\n",
      "accessibility_highways    506 non-null int64\n",
      "tax                       506 non-null float64\n",
      "PTRATIO                   506 non-null float64\n",
      "blacks_pro_per_town       506 non-null float64\n",
      "low_status                506 non-null float64\n",
      "median_value_of_house     506 non-null float64\n",
      "dtypes: float64(12), int64(2)\n",
      "memory usage: 59.3 KB\n"
     ]
    }
   ],
   "source": [
    "df.info()"
   ]
  },
  {
   "cell_type": "code",
   "execution_count": 11,
   "metadata": {
    "collapsed": false
   },
   "outputs": [
    {
     "data": {
      "text/html": [
       "<div>\n",
       "<table border=\"1\" class=\"dataframe\">\n",
       "  <thead>\n",
       "    <tr style=\"text-align: right;\">\n",
       "      <th></th>\n",
       "      <th>crime_rate_by_town</th>\n",
       "      <th>residential_land</th>\n",
       "      <th>non-retail_business</th>\n",
       "      <th>river_dummy</th>\n",
       "      <th>nitric_oxides</th>\n",
       "      <th>avg_num_rooms</th>\n",
       "      <th>age</th>\n",
       "      <th>distance</th>\n",
       "      <th>accessibility_highways</th>\n",
       "      <th>tax</th>\n",
       "      <th>PTRATIO</th>\n",
       "      <th>blacks_pro_per_town</th>\n",
       "      <th>low_status</th>\n",
       "      <th>median_value_of_house</th>\n",
       "    </tr>\n",
       "  </thead>\n",
       "  <tbody>\n",
       "    <tr>\n",
       "      <th>count</th>\n",
       "      <td>506.000000</td>\n",
       "      <td>506.000000</td>\n",
       "      <td>506.000000</td>\n",
       "      <td>506.000000</td>\n",
       "      <td>506.000000</td>\n",
       "      <td>506.000000</td>\n",
       "      <td>506.000000</td>\n",
       "      <td>506.000000</td>\n",
       "      <td>506.000000</td>\n",
       "      <td>506.000000</td>\n",
       "      <td>506.000000</td>\n",
       "      <td>506.000000</td>\n",
       "      <td>506.000000</td>\n",
       "      <td>506.000000</td>\n",
       "    </tr>\n",
       "    <tr>\n",
       "      <th>mean</th>\n",
       "      <td>3.613524</td>\n",
       "      <td>11.363636</td>\n",
       "      <td>11.136779</td>\n",
       "      <td>0.069170</td>\n",
       "      <td>0.554695</td>\n",
       "      <td>6.284634</td>\n",
       "      <td>68.574901</td>\n",
       "      <td>3.795043</td>\n",
       "      <td>9.549407</td>\n",
       "      <td>408.237154</td>\n",
       "      <td>18.455534</td>\n",
       "      <td>356.674032</td>\n",
       "      <td>12.653063</td>\n",
       "      <td>22.532806</td>\n",
       "    </tr>\n",
       "    <tr>\n",
       "      <th>std</th>\n",
       "      <td>8.601545</td>\n",
       "      <td>23.322453</td>\n",
       "      <td>6.860353</td>\n",
       "      <td>0.253994</td>\n",
       "      <td>0.115878</td>\n",
       "      <td>0.702617</td>\n",
       "      <td>28.148861</td>\n",
       "      <td>2.105710</td>\n",
       "      <td>8.707259</td>\n",
       "      <td>168.537116</td>\n",
       "      <td>2.164946</td>\n",
       "      <td>91.294864</td>\n",
       "      <td>7.141062</td>\n",
       "      <td>9.197104</td>\n",
       "    </tr>\n",
       "    <tr>\n",
       "      <th>min</th>\n",
       "      <td>0.006320</td>\n",
       "      <td>0.000000</td>\n",
       "      <td>0.460000</td>\n",
       "      <td>0.000000</td>\n",
       "      <td>0.385000</td>\n",
       "      <td>3.561000</td>\n",
       "      <td>2.900000</td>\n",
       "      <td>1.129600</td>\n",
       "      <td>1.000000</td>\n",
       "      <td>187.000000</td>\n",
       "      <td>12.600000</td>\n",
       "      <td>0.320000</td>\n",
       "      <td>1.730000</td>\n",
       "      <td>5.000000</td>\n",
       "    </tr>\n",
       "    <tr>\n",
       "      <th>25%</th>\n",
       "      <td>0.082045</td>\n",
       "      <td>0.000000</td>\n",
       "      <td>5.190000</td>\n",
       "      <td>0.000000</td>\n",
       "      <td>0.449000</td>\n",
       "      <td>5.885500</td>\n",
       "      <td>45.025000</td>\n",
       "      <td>2.100175</td>\n",
       "      <td>4.000000</td>\n",
       "      <td>279.000000</td>\n",
       "      <td>17.400000</td>\n",
       "      <td>375.377500</td>\n",
       "      <td>6.950000</td>\n",
       "      <td>17.025000</td>\n",
       "    </tr>\n",
       "    <tr>\n",
       "      <th>50%</th>\n",
       "      <td>0.256510</td>\n",
       "      <td>0.000000</td>\n",
       "      <td>9.690000</td>\n",
       "      <td>0.000000</td>\n",
       "      <td>0.538000</td>\n",
       "      <td>6.208500</td>\n",
       "      <td>77.500000</td>\n",
       "      <td>3.207450</td>\n",
       "      <td>5.000000</td>\n",
       "      <td>330.000000</td>\n",
       "      <td>19.050000</td>\n",
       "      <td>391.440000</td>\n",
       "      <td>11.360000</td>\n",
       "      <td>21.200000</td>\n",
       "    </tr>\n",
       "    <tr>\n",
       "      <th>75%</th>\n",
       "      <td>3.677082</td>\n",
       "      <td>12.500000</td>\n",
       "      <td>18.100000</td>\n",
       "      <td>0.000000</td>\n",
       "      <td>0.624000</td>\n",
       "      <td>6.623500</td>\n",
       "      <td>94.075000</td>\n",
       "      <td>5.188425</td>\n",
       "      <td>24.000000</td>\n",
       "      <td>666.000000</td>\n",
       "      <td>20.200000</td>\n",
       "      <td>396.225000</td>\n",
       "      <td>16.955000</td>\n",
       "      <td>25.000000</td>\n",
       "    </tr>\n",
       "    <tr>\n",
       "      <th>max</th>\n",
       "      <td>88.976200</td>\n",
       "      <td>100.000000</td>\n",
       "      <td>27.740000</td>\n",
       "      <td>1.000000</td>\n",
       "      <td>0.871000</td>\n",
       "      <td>8.780000</td>\n",
       "      <td>100.000000</td>\n",
       "      <td>12.126500</td>\n",
       "      <td>24.000000</td>\n",
       "      <td>711.000000</td>\n",
       "      <td>22.000000</td>\n",
       "      <td>396.900000</td>\n",
       "      <td>37.970000</td>\n",
       "      <td>50.000000</td>\n",
       "    </tr>\n",
       "  </tbody>\n",
       "</table>\n",
       "</div>"
      ],
      "text/plain": [
       "       crime_rate_by_town  residential_land  non-retail_business  river_dummy  \\\n",
       "count          506.000000        506.000000           506.000000   506.000000   \n",
       "mean             3.613524         11.363636            11.136779     0.069170   \n",
       "std              8.601545         23.322453             6.860353     0.253994   \n",
       "min              0.006320          0.000000             0.460000     0.000000   \n",
       "25%              0.082045          0.000000             5.190000     0.000000   \n",
       "50%              0.256510          0.000000             9.690000     0.000000   \n",
       "75%              3.677082         12.500000            18.100000     0.000000   \n",
       "max             88.976200        100.000000            27.740000     1.000000   \n",
       "\n",
       "       nitric_oxides  avg_num_rooms         age    distance  \\\n",
       "count     506.000000     506.000000  506.000000  506.000000   \n",
       "mean        0.554695       6.284634   68.574901    3.795043   \n",
       "std         0.115878       0.702617   28.148861    2.105710   \n",
       "min         0.385000       3.561000    2.900000    1.129600   \n",
       "25%         0.449000       5.885500   45.025000    2.100175   \n",
       "50%         0.538000       6.208500   77.500000    3.207450   \n",
       "75%         0.624000       6.623500   94.075000    5.188425   \n",
       "max         0.871000       8.780000  100.000000   12.126500   \n",
       "\n",
       "       accessibility_highways         tax     PTRATIO  blacks_pro_per_town  \\\n",
       "count              506.000000  506.000000  506.000000           506.000000   \n",
       "mean                 9.549407  408.237154   18.455534           356.674032   \n",
       "std                  8.707259  168.537116    2.164946            91.294864   \n",
       "min                  1.000000  187.000000   12.600000             0.320000   \n",
       "25%                  4.000000  279.000000   17.400000           375.377500   \n",
       "50%                  5.000000  330.000000   19.050000           391.440000   \n",
       "75%                 24.000000  666.000000   20.200000           396.225000   \n",
       "max                 24.000000  711.000000   22.000000           396.900000   \n",
       "\n",
       "       low_status  median_value_of_house  \n",
       "count  506.000000             506.000000  \n",
       "mean    12.653063              22.532806  \n",
       "std      7.141062               9.197104  \n",
       "min      1.730000               5.000000  \n",
       "25%      6.950000              17.025000  \n",
       "50%     11.360000              21.200000  \n",
       "75%     16.955000              25.000000  \n",
       "max     37.970000              50.000000  "
      ]
     },
     "execution_count": 11,
     "metadata": {},
     "output_type": "execute_result"
    }
   ],
   "source": [
    "df.describe()"
   ]
  },
  {
   "cell_type": "code",
   "execution_count": 13,
   "metadata": {
    "collapsed": true
   },
   "outputs": [],
   "source": [
    "from sklearn.linear_model import LinearRegression\n"
   ]
  },
  {
   "cell_type": "code",
   "execution_count": 18,
   "metadata": {
    "collapsed": false
   },
   "outputs": [
    {
     "data": {
      "text/plain": [
       "Index([u'crime_rate_by_town', u'residential_land', u'non-retail_business',\n",
       "       u'river_dummy', u'nitric_oxides', u'avg_num_rooms', u'age', u'distance',\n",
       "       u'accessibility_highways', u'tax', u'PTRATIO', u'blacks_pro_per_town',\n",
       "       u'low_status', u'median_value_of_house'],\n",
       "      dtype='object')"
      ]
     },
     "execution_count": 18,
     "metadata": {},
     "output_type": "execute_result"
    }
   ],
   "source": [
    "df.columns"
   ]
  },
  {
   "cell_type": "code",
   "execution_count": 25,
   "metadata": {
    "collapsed": false
   },
   "outputs": [
    {
     "data": {
      "text/plain": [
       "0      24.0\n",
       "1      21.6\n",
       "2      34.7\n",
       "3      33.4\n",
       "4      36.2\n",
       "5      28.7\n",
       "6      22.9\n",
       "7      27.1\n",
       "8      16.5\n",
       "9      18.9\n",
       "10     15.0\n",
       "11     18.9\n",
       "12     21.7\n",
       "13     20.4\n",
       "14     18.2\n",
       "15     19.9\n",
       "16     23.1\n",
       "17     17.5\n",
       "18     20.2\n",
       "19     18.2\n",
       "20     13.6\n",
       "21     19.6\n",
       "22     15.2\n",
       "23     14.5\n",
       "24     15.6\n",
       "25     13.9\n",
       "26     16.6\n",
       "27     14.8\n",
       "28     18.4\n",
       "29     21.0\n",
       "       ... \n",
       "476    16.7\n",
       "477    12.0\n",
       "478    14.6\n",
       "479    21.4\n",
       "480    23.0\n",
       "481    23.7\n",
       "482    25.0\n",
       "483    21.8\n",
       "484    20.6\n",
       "485    21.2\n",
       "486    19.1\n",
       "487    20.6\n",
       "488    15.2\n",
       "489     7.0\n",
       "490     8.1\n",
       "491    13.6\n",
       "492    20.1\n",
       "493    21.8\n",
       "494    24.5\n",
       "495    23.1\n",
       "496    19.7\n",
       "497    18.3\n",
       "498    21.2\n",
       "499    17.5\n",
       "500    16.8\n",
       "501    22.4\n",
       "502    20.6\n",
       "503    23.9\n",
       "504    22.0\n",
       "505    11.9\n",
       "Name: median_value_of_house, dtype: float64"
      ]
     },
     "execution_count": 25,
     "metadata": {},
     "output_type": "execute_result"
    }
   ],
   "source": [
    "target = df[u'median_value_of_house']\n",
    "target"
   ]
  },
  {
   "cell_type": "code",
   "execution_count": 35,
   "metadata": {
    "collapsed": false
   },
   "outputs": [
    {
     "data": {
      "text/plain": [
       "Index([u'crime_rate_by_town', u'residential_land', u'non-retail_business',\n",
       "       u'river_dummy', u'nitric_oxides', u'avg_num_rooms', u'age', u'distance',\n",
       "       u'accessibility_highways', u'tax', u'PTRATIO', u'blacks_pro_per_town',\n",
       "       u'low_status'],\n",
       "      dtype='object')"
      ]
     },
     "execution_count": 35,
     "metadata": {},
     "output_type": "execute_result"
    }
   ],
   "source": [
    "features = df.drop('median_value_of_house',axis =1)\n",
    "features.columns"
   ]
  },
  {
   "cell_type": "code",
   "execution_count": 28,
   "metadata": {
    "collapsed": false
   },
   "outputs": [
    {
     "data": {
      "text/plain": [
       "Index([u'crime_rate_by_town', u'residential_land', u'non-retail_business',\n",
       "       u'river_dummy', u'nitric_oxides', u'avg_num_rooms', u'age', u'distance',\n",
       "       u'accessibility_highways', u'tax', u'PTRATIO', u'blacks_pro_per_town',\n",
       "       u'low_status', u'median_value_of_house'],\n",
       "      dtype='object')"
      ]
     },
     "execution_count": 28,
     "metadata": {},
     "output_type": "execute_result"
    }
   ],
   "source": [
    "df.columns"
   ]
  },
  {
   "cell_type": "code",
   "execution_count": 52,
   "metadata": {
    "collapsed": false
   },
   "outputs": [],
   "source": [
    "from sklearn.cross_validation import train_test_split\n",
    "X_train, X_test, y_train, y_test = train_test_split(features, target, train_size=0.8)\n"
   ]
  },
  {
   "cell_type": "code",
   "execution_count": 53,
   "metadata": {
    "collapsed": true
   },
   "outputs": [],
   "source": [
    "model = LinearRegression()\n"
   ]
  },
  {
   "cell_type": "code",
   "execution_count": 54,
   "metadata": {
    "collapsed": false
   },
   "outputs": [
    {
     "name": "stdout",
     "output_type": "stream",
     "text": [
      "Train R2 0.736851\n",
      "Test R2 0.729008\n"
     ]
    }
   ],
   "source": [
    "model.fit(X_train, y_train)\n",
    "print \"Train R2 %f\"%model.score(X_train,y_train)\n",
    "print \"Test R2 %f\"%model.score(X_test,y_test)"
   ]
  },
  {
   "cell_type": "code",
   "execution_count": null,
   "metadata": {
    "collapsed": true
   },
   "outputs": [],
   "source": []
  }
 ],
 "metadata": {
  "kernelspec": {
   "display_name": "Python 2",
   "language": "python",
   "name": "python2"
  },
  "language_info": {
   "codemirror_mode": {
    "name": "ipython",
    "version": 2
   },
   "file_extension": ".py",
   "mimetype": "text/x-python",
   "name": "python",
   "nbconvert_exporter": "python",
   "pygments_lexer": "ipython2",
   "version": "2.7.11"
  }
 },
 "nbformat": 4,
 "nbformat_minor": 0
}
